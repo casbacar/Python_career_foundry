{
 "cells": [
  {
   "cell_type": "code",
   "execution_count": 1,
   "id": "4b26b82a-9c8f-4831-ad5c-187528203e28",
   "metadata": {},
   "outputs": [],
   "source": [
    "# Importing libraries\n",
    "\n",
    "import pandas as pd\n",
    "import numpy as np\n",
    "import os\n",
    "import matplotlib.pyplot as plt\n",
    "import seaborn as sns\n",
    "import scipy"
   ]
  },
  {
   "cell_type": "code",
   "execution_count": 2,
   "id": "1b248cf2-71f0-4468-867c-467c78b142da",
   "metadata": {},
   "outputs": [],
   "source": [
    "# Importing customers data file\n",
    "\n",
    "cust = pd.read_pickle(r'C:\\Users\\casbacar\\Documents\\Study\\Data Immersion\\Achievement 4\\03_2025_Instacart basked analysis\\03 Scripts\\Prepared data\\Customers_prods_final.pkl')"
   ]
  },
  {
   "cell_type": "code",
   "execution_count": 3,
   "id": "22a5e2f8-4b33-4aca-99f1-90ef551fda01",
   "metadata": {},
   "outputs": [
    {
     "name": "stdout",
     "output_type": "stream",
     "text": [
      "<class 'pandas.core.frame.DataFrame'>\n",
      "RangeIndex: 32404859 entries, 0 to 32404858\n",
      "Data columns (total 30 columns):\n",
      " #   Column                  Dtype   \n",
      "---  ------                  -----   \n",
      " 0   user_id                 int64   \n",
      " 1   First Name              object  \n",
      " 2   Surname                 object  \n",
      " 3   Gender                  object  \n",
      " 4   State                   object  \n",
      " 5   Age                     int64   \n",
      " 6   date_joined             object  \n",
      " 7   n_dependants            int64   \n",
      " 8   fam_status              object  \n",
      " 9   income                  int64   \n",
      " 10  product_id              int64   \n",
      " 11  product_name            object  \n",
      " 12  aisle_id                int64   \n",
      " 13  department_id           int64   \n",
      " 14  prices                  float64 \n",
      " 15  order_id                int64   \n",
      " 16  eval_set                object  \n",
      " 17  order_number            int64   \n",
      " 18  order_dow               int64   \n",
      " 19  order_hour_of_day       int64   \n",
      " 20  days_since_prior_order  float64 \n",
      " 21  add_to_cart_order       int64   \n",
      " 22  reordered               int64   \n",
      " 23  _merge                  category\n",
      " 24  Busiest days            object  \n",
      " 25  Busiest hours           object  \n",
      " 26  max_order               int64   \n",
      " 27  loyalty_flag            object  \n",
      " 28  spending_flag           object  \n",
      " 29  frequency_flag          object  \n",
      "dtypes: category(1), float64(2), int64(14), object(13)\n",
      "memory usage: 7.0+ GB\n"
     ]
    }
   ],
   "source": [
    "cust.info()"
   ]
  },
  {
   "cell_type": "code",
   "execution_count": 25,
   "id": "eba5e9a8-f05c-45aa-8a1b-042fd83e5228",
   "metadata": {
    "scrolled": true
   },
   "outputs": [
    {
     "data": {
      "text/plain": [
       "count    3.240486e+07\n",
       "mean     1.198023e+01\n",
       "std      4.956554e+02\n",
       "min      1.000000e+00\n",
       "25%      4.200000e+00\n",
       "50%      7.400000e+00\n",
       "75%      1.130000e+01\n",
       "max      9.999900e+04\n",
       "Name: prices, dtype: float64"
      ]
     },
     "execution_count": 25,
     "metadata": {},
     "output_type": "execute_result"
    }
   ],
   "source": [
    "cust['prices'].describe()"
   ]
  },
  {
   "cell_type": "code",
   "execution_count": 27,
   "id": "663e173a-0b2e-428a-b16a-0ea47475644e",
   "metadata": {},
   "outputs": [],
   "source": [
    "cust.loc[(cust['prices'] <= 1), 'price range'] = '1-2'\n",
    "cust.loc[(cust['prices'] > 1) & (cust['prices'] <= 2), 'price range'] = '1-2'\n",
    "cust.loc[(cust['prices'] > 2) & (cust['prices'] <= 3), 'price range'] = '2-3'\n",
    "cust.loc[(cust['prices'] > 3) & (cust['prices'] <= 4), 'price range'] = '3-4'\n",
    "cust.loc[(cust['prices'] > 4) & (cust['prices'] <= 5), 'price range'] = '4-5'\n",
    "cust.loc[(cust['prices'] > 5) & (cust['prices'] <= 6), 'price range'] = '5-6'\n",
    "cust.loc[(cust['prices'] > 6) & (cust['prices'] <= 7), 'price range'] = '6-7'\n",
    "cust.loc[(cust['prices'] > 7) & (cust['prices'] <= 8), 'price range'] = '7-8'\n",
    "cust.loc[(cust['prices'] > 8) & (cust['prices'] <= 9), 'price range'] = '8-9'\n",
    "cust.loc[(cust['prices'] > 9) & (cust['prices'] <= 10), 'price range'] = '9-10'"
   ]
  },
  {
   "cell_type": "code",
   "execution_count": 29,
   "id": "2bf5fa76-069e-4167-beff-c4f1512a76e9",
   "metadata": {},
   "outputs": [
    {
     "data": {
      "text/plain": [
       "price range\n",
       "6-7     2881467\n",
       "1-2     2863551\n",
       "3-4     2685225\n",
       "4-5     2503734\n",
       "8-9     2410617\n",
       "5-6     2372021\n",
       "7-8     2234025\n",
       "2-3     2073811\n",
       "9-10    1864328\n",
       "Name: count, dtype: int64"
      ]
     },
     "execution_count": 29,
     "metadata": {},
     "output_type": "execute_result"
    }
   ],
   "source": [
    "cust['price range'].value_counts()"
   ]
  },
  {
   "cell_type": "markdown",
   "id": "adb845e7-f0e1-420e-bfa7-34a7af4cdea7",
   "metadata": {},
   "source": [
    "## Data consistency check"
   ]
  },
  {
   "cell_type": "code",
   "execution_count": 8,
   "id": "4f4fce37-019d-4a78-82f6-d063fdd79375",
   "metadata": {
    "scrolled": true
   },
   "outputs": [
    {
     "data": {
      "text/plain": [
       "(206209, 10)"
      ]
     },
     "execution_count": 8,
     "metadata": {},
     "output_type": "execute_result"
    }
   ],
   "source": [
    "# Checking data columns and logic\n",
    "\n",
    "cust.shape"
   ]
  },
  {
   "cell_type": "code",
   "execution_count": 9,
   "id": "30ed909f-b467-40ea-bf22-a938f9610bac",
   "metadata": {},
   "outputs": [],
   "source": [
    "# Renaming STATE and Surnam columns\n",
    "\n",
    "cust = cust.rename(columns={'STATE': 'State',\n",
    "                           'Surnam': 'Surname'\n",
    "                           })"
   ]
  },
  {
   "cell_type": "code",
   "execution_count": 10,
   "id": "6b480990-5882-4a04-a630-61c8b303c9cf",
   "metadata": {},
   "outputs": [
    {
     "data": {
      "text/plain": [
       "user_id             0\n",
       "First Name      11259\n",
       "Surname             0\n",
       "Gender              0\n",
       "State               0\n",
       "Age                 0\n",
       "date_joined         0\n",
       "n_dependants        0\n",
       "fam_status          0\n",
       "income              0\n",
       "dtype: int64"
      ]
     },
     "execution_count": 10,
     "metadata": {},
     "output_type": "execute_result"
    }
   ],
   "source": [
    "# Checking for missing values\n",
    "\n",
    "cust.isnull().sum()"
   ]
  },
  {
   "cell_type": "code",
   "execution_count": 1,
   "id": "680d5d0b-87be-41a9-b6ba-a07b7f2a1d73",
   "metadata": {},
   "outputs": [
    {
     "ename": "NameError",
     "evalue": "name 'cust' is not defined",
     "output_type": "error",
     "traceback": [
      "\u001b[1;31m---------------------------------------------------------------------------\u001b[0m",
      "\u001b[1;31mNameError\u001b[0m                                 Traceback (most recent call last)",
      "Cell \u001b[1;32mIn[1], line 3\u001b[0m\n\u001b[0;32m      1\u001b[0m \u001b[38;5;66;03m# Checking for duplicates\u001b[39;00m\n\u001b[1;32m----> 3\u001b[0m cust_dups \u001b[38;5;241m=\u001b[39m cust[cust\u001b[38;5;241m.\u001b[39mduplicated()]\n",
      "\u001b[1;31mNameError\u001b[0m: name 'cust' is not defined"
     ]
    }
   ],
   "source": [
    "# Checking for duplicates\n",
    "\n",
    "cust_dups = cust[cust.duplicated()]\n"
   ]
  },
  {
   "cell_type": "code",
   "execution_count": 12,
   "id": "087a0202-beee-42be-a70b-877ce521b4dd",
   "metadata": {},
   "outputs": [
    {
     "data": {
      "text/html": [
       "<div>\n",
       "<style scoped>\n",
       "    .dataframe tbody tr th:only-of-type {\n",
       "        vertical-align: middle;\n",
       "    }\n",
       "\n",
       "    .dataframe tbody tr th {\n",
       "        vertical-align: top;\n",
       "    }\n",
       "\n",
       "    .dataframe thead th {\n",
       "        text-align: right;\n",
       "    }\n",
       "</style>\n",
       "<table border=\"1\" class=\"dataframe\">\n",
       "  <thead>\n",
       "    <tr style=\"text-align: right;\">\n",
       "      <th></th>\n",
       "      <th>user_id</th>\n",
       "      <th>First Name</th>\n",
       "      <th>Surname</th>\n",
       "      <th>Gender</th>\n",
       "      <th>State</th>\n",
       "      <th>Age</th>\n",
       "      <th>date_joined</th>\n",
       "      <th>n_dependants</th>\n",
       "      <th>fam_status</th>\n",
       "      <th>income</th>\n",
       "    </tr>\n",
       "  </thead>\n",
       "  <tbody>\n",
       "  </tbody>\n",
       "</table>\n",
       "</div>"
      ],
      "text/plain": [
       "Empty DataFrame\n",
       "Columns: [user_id, First Name, Surname, Gender, State, Age, date_joined, n_dependants, fam_status, income]\n",
       "Index: []"
      ]
     },
     "execution_count": 12,
     "metadata": {},
     "output_type": "execute_result"
    }
   ],
   "source": [
    "cust_dups"
   ]
  },
  {
   "cell_type": "markdown",
   "id": "1f993350-e62d-4ab3-8b1d-6fb6bd1731eb",
   "metadata": {},
   "source": [
    "#### Observations: \n",
    "No duplicates were found."
   ]
  },
  {
   "cell_type": "code",
   "execution_count": 13,
   "id": "2e78604f-2063-4e98-b09d-11379709a2a1",
   "metadata": {},
   "outputs": [
    {
     "name": "stdout",
     "output_type": "stream",
     "text": [
      "First Name\n"
     ]
    }
   ],
   "source": [
    "# Checking for mixed type values\n",
    "\n",
    "for col in cust.columns.tolist():\n",
    "  weird = (cust[[col]].map(type) != cust[[col]].iloc[0].apply(type)).any(axis = 1)\n",
    "  if len (cust[weird]) > 0:\n",
    "    print (col)"
   ]
  },
  {
   "cell_type": "code",
   "execution_count": 14,
   "id": "b31d62f2-aa62-4efe-b8d1-a798b668cfd1",
   "metadata": {},
   "outputs": [],
   "source": [
    "# Fixing the mixed type values\n",
    "\n",
    "cust['First Name'] = cust['First Name'].astype('str')"
   ]
  },
  {
   "cell_type": "code",
   "execution_count": 15,
   "id": "8b6b0845-b606-4f2c-ab1d-020affde58ed",
   "metadata": {},
   "outputs": [
    {
     "data": {
      "text/plain": [
       "(206209, 10)"
      ]
     },
     "execution_count": 15,
     "metadata": {},
     "output_type": "execute_result"
    }
   ],
   "source": [
    "cust.shape"
   ]
  },
  {
   "cell_type": "code",
   "execution_count": 16,
   "id": "75b8faa1-ff39-4de9-add6-2f005556330a",
   "metadata": {
    "scrolled": true
   },
   "outputs": [
    {
     "name": "stdout",
     "output_type": "stream",
     "text": [
      "<class 'pandas.core.frame.DataFrame'>\n",
      "RangeIndex: 206209 entries, 0 to 206208\n",
      "Data columns (total 10 columns):\n",
      " #   Column        Non-Null Count   Dtype \n",
      "---  ------        --------------   ----- \n",
      " 0   user_id       206209 non-null  int64 \n",
      " 1   First Name    206209 non-null  object\n",
      " 2   Surname       206209 non-null  object\n",
      " 3   Gender        206209 non-null  object\n",
      " 4   State         206209 non-null  object\n",
      " 5   Age           206209 non-null  int64 \n",
      " 6   date_joined   206209 non-null  object\n",
      " 7   n_dependants  206209 non-null  int64 \n",
      " 8   fam_status    206209 non-null  object\n",
      " 9   income        206209 non-null  int64 \n",
      "dtypes: int64(4), object(6)\n",
      "memory usage: 15.7+ MB\n"
     ]
    }
   ],
   "source": [
    "# checking column types \n",
    "\n",
    "cust.info()"
   ]
  },
  {
   "cell_type": "markdown",
   "id": "62ebde6f-309d-4b75-8fb8-bbab69e438d3",
   "metadata": {},
   "source": [
    "## Combining data"
   ]
  },
  {
   "cell_type": "code",
   "execution_count": 17,
   "id": "536b07af-1855-4352-986b-fb2fbe72b236",
   "metadata": {},
   "outputs": [
    {
     "ename": "MemoryError",
     "evalue": "",
     "output_type": "error",
     "traceback": [
      "\u001b[1;31m---------------------------------------------------------------------------\u001b[0m",
      "\u001b[1;31mMemoryError\u001b[0m                               Traceback (most recent call last)",
      "Cell \u001b[1;32mIn[17], line 3\u001b[0m\n\u001b[0;32m      1\u001b[0m \u001b[38;5;66;03m# Importing orders and products file\u001b[39;00m\n\u001b[1;32m----> 3\u001b[0m ords_prods_df \u001b[38;5;241m=\u001b[39m pd\u001b[38;5;241m.\u001b[39mread_pickle(\u001b[38;5;124mr\u001b[39m\u001b[38;5;124m'\u001b[39m\u001b[38;5;124mC:\u001b[39m\u001b[38;5;124m\\\u001b[39m\u001b[38;5;124mUsers\u001b[39m\u001b[38;5;124m\\\u001b[39m\u001b[38;5;124mcasbacar\u001b[39m\u001b[38;5;124m\\\u001b[39m\u001b[38;5;124mDocuments\u001b[39m\u001b[38;5;124m\\\u001b[39m\u001b[38;5;124mStudy\u001b[39m\u001b[38;5;124m\\\u001b[39m\u001b[38;5;124mData Immersion\u001b[39m\u001b[38;5;124m\\\u001b[39m\u001b[38;5;124mAchievement 4\u001b[39m\u001b[38;5;124m\\\u001b[39m\u001b[38;5;124m03_2025_Instacart basked analysis\u001b[39m\u001b[38;5;124m\\\u001b[39m\u001b[38;5;124m03 Scripts\u001b[39m\u001b[38;5;124m\\\u001b[39m\u001b[38;5;124mPrepared data\u001b[39m\u001b[38;5;124m\\\u001b[39m\u001b[38;5;124m 4.8_grouping_data.pkl\u001b[39m\u001b[38;5;124m'\u001b[39m)\n",
      "File \u001b[1;32m~\\AppData\\Local\\anaconda3\\Lib\\site-packages\\pandas\\io\\pickle.py:202\u001b[0m, in \u001b[0;36mread_pickle\u001b[1;34m(filepath_or_buffer, compression, storage_options)\u001b[0m\n\u001b[0;32m    199\u001b[0m     \u001b[38;5;28;01mwith\u001b[39;00m warnings\u001b[38;5;241m.\u001b[39mcatch_warnings(record\u001b[38;5;241m=\u001b[39m\u001b[38;5;28;01mTrue\u001b[39;00m):\n\u001b[0;32m    200\u001b[0m         \u001b[38;5;66;03m# We want to silence any warnings about, e.g. moved modules.\u001b[39;00m\n\u001b[0;32m    201\u001b[0m         warnings\u001b[38;5;241m.\u001b[39msimplefilter(\u001b[38;5;124m\"\u001b[39m\u001b[38;5;124mignore\u001b[39m\u001b[38;5;124m\"\u001b[39m, \u001b[38;5;167;01mWarning\u001b[39;00m)\n\u001b[1;32m--> 202\u001b[0m         \u001b[38;5;28;01mreturn\u001b[39;00m pickle\u001b[38;5;241m.\u001b[39mload(handles\u001b[38;5;241m.\u001b[39mhandle)\n\u001b[0;32m    203\u001b[0m \u001b[38;5;28;01mexcept\u001b[39;00m excs_to_catch:\n\u001b[0;32m    204\u001b[0m     \u001b[38;5;66;03m# e.g.\u001b[39;00m\n\u001b[0;32m    205\u001b[0m     \u001b[38;5;66;03m#  \"No module named 'pandas.core.sparse.series'\"\u001b[39;00m\n\u001b[0;32m    206\u001b[0m     \u001b[38;5;66;03m#  \"Can't get attribute '__nat_unpickle' on <module 'pandas._libs.tslib\"\u001b[39;00m\n\u001b[0;32m    207\u001b[0m     \u001b[38;5;28;01mreturn\u001b[39;00m pc\u001b[38;5;241m.\u001b[39mload(handles\u001b[38;5;241m.\u001b[39mhandle, encoding\u001b[38;5;241m=\u001b[39m\u001b[38;5;28;01mNone\u001b[39;00m)\n",
      "\u001b[1;31mMemoryError\u001b[0m: "
     ]
    }
   ],
   "source": [
    "# Importing orders and products file\n",
    "\n",
    "ords_prods_df = pd.read_pickle(r'C:\\Users\\casbacar\\Documents\\Study\\Data Immersion\\Achievement 4\\03_2025_Instacart basked analysis\\03 Scripts\\Prepared data\\ 4.8_grouping_data.pkl')"
   ]
  },
  {
   "cell_type": "code",
   "execution_count": null,
   "id": "9fe84405-37b6-43fe-ba97-1cc0ee72bfcd",
   "metadata": {},
   "outputs": [],
   "source": [
    "ords_prods_df.head()"
   ]
  },
  {
   "cell_type": "code",
   "execution_count": null,
   "id": "ba822dfc-c482-42f7-a90a-31ced65b1553",
   "metadata": {},
   "outputs": [],
   "source": [
    "# Merging our two datasets\n",
    "\n",
    "df_cust_prods = cust.merge(ords_prods_df, on = ['user_id'])"
   ]
  },
  {
   "cell_type": "code",
   "execution_count": null,
   "id": "4a51a0a5-2e7a-45f1-a202-736e5fc7d1ee",
   "metadata": {},
   "outputs": [],
   "source": [
    "df_cust_prods.info()"
   ]
  },
  {
   "cell_type": "code",
   "execution_count": null,
   "id": "2474d5da-ecde-4163-af50-1842f7400a96",
   "metadata": {},
   "outputs": [],
   "source": [
    "# Export to pickle file\n",
    "\n",
    "df_cust_prods.to_pickle(r'C:\\Users\\casbacar\\Documents\\Study\\Data Immersion\\Achievement 4\\03_2025_Instacart basked analysis\\03 Scripts\\Prepared data\\Customers_prods_final.pkl')"
   ]
  },
  {
   "cell_type": "code",
   "execution_count": 5,
   "id": "23a87d5a-a1ce-452a-a2f5-c8a9577f4b1c",
   "metadata": {},
   "outputs": [
    {
     "ename": "NameError",
     "evalue": "name 'df_cust_prods' is not defined",
     "output_type": "error",
     "traceback": [
      "\u001b[1;31m---------------------------------------------------------------------------\u001b[0m",
      "\u001b[1;31mNameError\u001b[0m                                 Traceback (most recent call last)",
      "Cell \u001b[1;32mIn[5], line 1\u001b[0m\n\u001b[1;32m----> 1\u001b[0m df_cust_prods\u001b[38;5;241m.\u001b[39mshape\n",
      "\u001b[1;31mNameError\u001b[0m: name 'df_cust_prods' is not defined"
     ]
    }
   ],
   "source": [
    "df_cust_prods.shape"
   ]
  },
  {
   "cell_type": "code",
   "execution_count": 17,
   "id": "496167e7-2a67-4b25-9362-b1bea6fbfb06",
   "metadata": {},
   "outputs": [],
   "source": [
    "# Importing customers data file\n",
    "\n",
    "cust = pd.read_pickle(r'C:\\Users\\casbacar\\Documents\\Study\\Data Immersion\\Achievement 4\\03_2025_Instacart basked analysis\\03 Scripts\\Prepared data\\orders_products_combined.pkl')"
   ]
  },
  {
   "cell_type": "code",
   "execution_count": 18,
   "id": "92ddf927-d308-4169-b6c2-31045f9563bd",
   "metadata": {},
   "outputs": [],
   "source": [
    "# Checking for duplicates\n",
    "\n",
    "cust_dups = cust[cust.duplicated()]"
   ]
  },
  {
   "cell_type": "code",
   "execution_count": 19,
   "id": "f883d364-c68a-45f0-a96b-82f7bd37979c",
   "metadata": {},
   "outputs": [
    {
     "name": "stdout",
     "output_type": "stream",
     "text": [
      "Empty DataFrame\n",
      "Columns: [order_id, user_id, eval_set, order_number, order_dow, order_hour_of_day, days_since_prior_order, product_id, add_to_cart_order, reordered, _merge]\n",
      "Index: []\n"
     ]
    }
   ],
   "source": [
    "print(cust_dups)"
   ]
  },
  {
   "cell_type": "code",
   "execution_count": 20,
   "id": "b18e19b7-ec0f-4ae3-b0a5-e1be84c00c19",
   "metadata": {},
   "outputs": [
    {
     "data": {
      "text/plain": [
       "(32434489, 11)"
      ]
     },
     "execution_count": 20,
     "metadata": {},
     "output_type": "execute_result"
    }
   ],
   "source": [
    "cust.shape"
   ]
  },
  {
   "cell_type": "code",
   "execution_count": null,
   "id": "a8e36271-d571-4903-ad1e-90f55ca77241",
   "metadata": {},
   "outputs": [],
   "source": []
  },
  {
   "cell_type": "code",
   "execution_count": null,
   "id": "13182ce7-0743-4e8c-967e-26ec2a0ca9c7",
   "metadata": {},
   "outputs": [],
   "source": []
  },
  {
   "cell_type": "code",
   "execution_count": null,
   "id": "ace1c691-c726-4893-9152-b76b68a6e5ff",
   "metadata": {},
   "outputs": [],
   "source": []
  },
  {
   "cell_type": "code",
   "execution_count": null,
   "id": "f53a7d48-4a85-4963-bada-545fdfcdc844",
   "metadata": {},
   "outputs": [],
   "source": []
  },
  {
   "cell_type": "code",
   "execution_count": null,
   "id": "7bc1195f-8f45-4083-809a-3b66727c3e0c",
   "metadata": {},
   "outputs": [],
   "source": []
  },
  {
   "cell_type": "code",
   "execution_count": null,
   "id": "b5eca03d-10ba-47e6-8e0d-7072eaac364b",
   "metadata": {},
   "outputs": [],
   "source": []
  }
 ],
 "metadata": {
  "kernelspec": {
   "display_name": "Python 3 (ipykernel)",
   "language": "python",
   "name": "python3"
  },
  "language_info": {
   "codemirror_mode": {
    "name": "ipython",
    "version": 3
   },
   "file_extension": ".py",
   "mimetype": "text/x-python",
   "name": "python",
   "nbconvert_exporter": "python",
   "pygments_lexer": "ipython3",
   "version": "3.12.7"
  }
 },
 "nbformat": 4,
 "nbformat_minor": 5
}
