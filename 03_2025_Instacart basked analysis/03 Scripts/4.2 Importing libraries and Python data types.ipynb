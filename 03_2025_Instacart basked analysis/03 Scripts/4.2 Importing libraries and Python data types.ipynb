{
 "cells": [
  {
   "cell_type": "markdown",
   "id": "f4b32094-3d07-4b01-803c-ddae96c611c8",
   "metadata": {},
   "source": [
    "# 01 Importing libraries"
   ]
  },
  {
   "cell_type": "code",
   "execution_count": 1,
   "id": "bcf16fd3-4d0e-4618-8367-189e2d0a48f4",
   "metadata": {},
   "outputs": [],
   "source": [
    "# import libraries\n",
    "import pandas as pd\n",
    "import numpy as np\n",
    "import os"
   ]
  },
  {
   "cell_type": "markdown",
   "id": "9daef124-5694-4463-b6ae-5196846b424c",
   "metadata": {},
   "source": [
    "## Data types"
   ]
  },
  {
   "cell_type": "markdown",
   "id": "5a309f63-503d-4e0a-af39-d33382daddea",
   "metadata": {},
   "source": [
    "### Exercise 7"
   ]
  },
  {
   "cell_type": "code",
   "execution_count": 9,
   "id": "e2863480-fb68-45fb-bf47-c60bcc64b81b",
   "metadata": {},
   "outputs": [],
   "source": [
    "x = 50"
   ]
  },
  {
   "cell_type": "code",
   "execution_count": 10,
   "id": "3c15264d-76fb-4091-85e2-105963961333",
   "metadata": {},
   "outputs": [
    {
     "name": "stdout",
     "output_type": "stream",
     "text": [
      "50\n"
     ]
    }
   ],
   "source": [
    "print (x)"
   ]
  },
  {
   "cell_type": "code",
   "execution_count": 11,
   "id": "b2f4f9de-5ca4-4bf5-bb76-a3576cadcdc8",
   "metadata": {},
   "outputs": [
    {
     "data": {
      "text/plain": [
       "100"
      ]
     },
     "execution_count": 11,
     "metadata": {},
     "output_type": "execute_result"
    }
   ],
   "source": [
    "x + 50"
   ]
  },
  {
   "cell_type": "code",
   "execution_count": 14,
   "id": "fbd38c58-de12-4b4c-84f0-acef6803fbeb",
   "metadata": {},
   "outputs": [
    {
     "data": {
      "text/plain": [
       "100"
      ]
     },
     "execution_count": 14,
     "metadata": {},
     "output_type": "execute_result"
    }
   ],
   "source": [
    "150 - x"
   ]
  },
  {
   "cell_type": "code",
   "execution_count": 16,
   "id": "ead075d3-dea6-426c-a3a8-01f0cd35097e",
   "metadata": {},
   "outputs": [],
   "source": [
    "y = 50"
   ]
  },
  {
   "cell_type": "code",
   "execution_count": 17,
   "id": "5e1d5a77-0c54-4675-9404-41b2d3a3318e",
   "metadata": {},
   "outputs": [
    {
     "data": {
      "text/plain": [
       "100"
      ]
     },
     "execution_count": 17,
     "metadata": {},
     "output_type": "execute_result"
    }
   ],
   "source": [
    "x + y"
   ]
  },
  {
   "cell_type": "markdown",
   "id": "b0424248-da69-488f-89a8-dffaf4ef1af2",
   "metadata": {},
   "source": [
    "### Exercise 8"
   ]
  },
  {
   "cell_type": "code",
   "execution_count": 18,
   "id": "11878fc9-7b88-4b58-9508-039313242129",
   "metadata": {},
   "outputs": [],
   "source": [
    "z = 4.456"
   ]
  },
  {
   "cell_type": "code",
   "execution_count": 19,
   "id": "6635d8cf-d26f-4f26-9ee3-0fe9c056141f",
   "metadata": {},
   "outputs": [],
   "source": [
    "a = 8.432"
   ]
  },
  {
   "cell_type": "code",
   "execution_count": 20,
   "id": "8aca314a-16ef-4e48-8907-15c6c2124209",
   "metadata": {},
   "outputs": [
    {
     "data": {
      "text/plain": [
       "0.5284629981024668"
      ]
     },
     "execution_count": 20,
     "metadata": {},
     "output_type": "execute_result"
    }
   ],
   "source": [
    "z / a"
   ]
  },
  {
   "cell_type": "code",
   "execution_count": 26,
   "id": "947cf372-f00f-468a-a94f-0f75b82b6062",
   "metadata": {},
   "outputs": [],
   "source": [
    "### Exercise 9"
   ]
  },
  {
   "cell_type": "code",
   "execution_count": 23,
   "id": "1798299e-3062-4fde-bac2-39c5d688ec4b",
   "metadata": {},
   "outputs": [],
   "source": [
    "h = 'hell'"
   ]
  },
  {
   "cell_type": "code",
   "execution_count": 24,
   "id": "807a6e69-d0c5-4e33-8c62-e21e4f7bce06",
   "metadata": {},
   "outputs": [],
   "source": [
    "s = 'scape'"
   ]
  },
  {
   "cell_type": "code",
   "execution_count": 25,
   "id": "a5ef9f36-593c-4383-9acf-9cd0986b7a29",
   "metadata": {},
   "outputs": [
    {
     "data": {
      "text/plain": [
       "'hellscape'"
      ]
     },
     "execution_count": 25,
     "metadata": {},
     "output_type": "execute_result"
    }
   ],
   "source": [
    "h+s"
   ]
  },
  {
   "cell_type": "code",
   "execution_count": null,
   "id": "6a89ab8c-4d26-4045-a7dd-452259cc3b6e",
   "metadata": {},
   "outputs": [],
   "source": [
    "### Exercise 10"
   ]
  },
  {
   "cell_type": "code",
   "execution_count": 47,
   "id": "021b2dd9-06bf-4a10-a7b0-b9efbb9a6bcf",
   "metadata": {},
   "outputs": [],
   "source": [
    "FO = 'Fear of '"
   ]
  },
  {
   "cell_type": "code",
   "execution_count": 51,
   "id": "8075b08c-f9ea-46bb-a87a-2fa69aa12ecc",
   "metadata": {},
   "outputs": [],
   "source": [
    "M = 'missing '"
   ]
  },
  {
   "cell_type": "code",
   "execution_count": 31,
   "id": "f21a24b5-10fb-46d0-b90c-fab88e26a920",
   "metadata": {},
   "outputs": [],
   "source": [
    "O = 'out'"
   ]
  },
  {
   "cell_type": "code",
   "execution_count": 52,
   "id": "e9b1ab54-a01b-4bf4-bf2a-e1e0ee46526b",
   "metadata": {},
   "outputs": [
    {
     "name": "stdout",
     "output_type": "stream",
     "text": [
      "Fear of missing out\n"
     ]
    }
   ],
   "source": [
    "print(FO+M+O)"
   ]
  },
  {
   "cell_type": "code",
   "execution_count": 53,
   "id": "31a06ac5-7aee-4b7b-9d3b-1a5f09687e0b",
   "metadata": {},
   "outputs": [
    {
     "data": {
      "text/plain": [
       "'missing missing missing missing missing missing missing missing missing missing missing missing missing missing missing missing missing missing missing missing missing missing missing missing missing missing missing missing missing missing missing missing missing missing missing missing missing missing missing missing missing missing missing missing missing missing missing missing missing missing missing missing missing missing missing missing missing missing missing missing missing missing missing missing missing missing missing missing missing missing missing missing missing missing missing missing missing missing missing missing missing missing missing missing missing missing missing missing missing missing missing missing missing missing missing missing missing missing missing missing '"
      ]
     },
     "execution_count": 53,
     "metadata": {},
     "output_type": "execute_result"
    }
   ],
   "source": [
    "M * 100"
   ]
  },
  {
   "cell_type": "code",
   "execution_count": null,
   "id": "92bfefc6-2429-4d7a-a416-fe9a03626eb2",
   "metadata": {},
   "outputs": [],
   "source": []
  }
 ],
 "metadata": {
  "kernelspec": {
   "display_name": "Python 3 (ipykernel)",
   "language": "python",
   "name": "python3"
  },
  "language_info": {
   "codemirror_mode": {
    "name": "ipython",
    "version": 3
   },
   "file_extension": ".py",
   "mimetype": "text/x-python",
   "name": "python",
   "nbconvert_exporter": "python",
   "pygments_lexer": "ipython3",
   "version": "3.12.7"
  }
 },
 "nbformat": 4,
 "nbformat_minor": 5
}
